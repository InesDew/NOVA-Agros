{
 "cells": [
  {
   "cell_type": "code",
   "execution_count": 1,
   "id": "263fb1ad",
   "metadata": {},
   "outputs": [
    {
     "name": "stdout",
     "output_type": "stream",
     "text": [
      "            Entity  Year       tfp    output    inputs  ag_land_index  \\\n",
      "0      Afghanistan  1961   65.0814   44.8285   68.8807        91.6812   \n",
      "1      Afghanistan  1962   64.0637   45.6182   71.2075        92.2016   \n",
      "2      Afghanistan  1963   61.6217   45.9729   74.6051        92.6352   \n",
      "3      Afghanistan  1964   65.1109   49.0775   75.3752        93.1816   \n",
      "4      Afghanistan  1965   63.8587   51.2121   80.1960        93.1990   \n",
      "...            ...   ...       ...       ...       ...            ...   \n",
      "12177     Zimbabwe  2015  100.0000  100.0000  100.0000       100.0000   \n",
      "12178     Zimbabwe  2016   94.8110   98.1051  103.4744       103.8526   \n",
      "12179     Zimbabwe  2017  101.9830  104.9815  102.9402        99.6960   \n",
      "12180     Zimbabwe  2018  118.1959  121.0832  102.4428       102.8520   \n",
      "12181     Zimbabwe  2019  114.9524  114.2108   99.3549        92.5939   \n",
      "\n",
      "       labor_index  capital_index  materials_index  output_quantity  ...  \\\n",
      "0          44.5145       141.5215          35.9132          2566730  ...   \n",
      "1          45.0207       163.6547          36.3829          2611942  ...   \n",
      "2          45.5528       202.0577          37.0801          2632254  ...   \n",
      "3          46.1108       203.8875          37.5294          2810010  ...   \n",
      "4          46.6948       270.9746          38.5949          2932230  ...   \n",
      "...            ...            ...              ...              ...  ...   \n",
      "12177     100.0000       100.0000         100.0000          2191374  ...   \n",
      "12178     101.2662        97.9759         128.2406          2149850  ...   \n",
      "12179     102.3605        96.4853         141.3410          2300538  ...   \n",
      "12180     103.4662        95.3222         124.3694          2653386  ...   \n",
      "12181     105.7368        94.1207         125.9910          2502786  ...   \n",
      "\n",
      "       ag_land_quantity  labor_quantity  capital_quantity  machinery_quantity  \\\n",
      "0                 10571            1704              8866                   5   \n",
      "1                 10631            1723             10253                   6   \n",
      "2                 10681            1743             12659                   8   \n",
      "3                 10744            1765             12773                   8   \n",
      "4                 10746            1787             16976                  12   \n",
      "...                 ...             ...               ...                 ...   \n",
      "12177              2574            4184              8379                1154   \n",
      "12178              2673            4237              8210                1174   \n",
      "12179              2566            4283              8085                1180   \n",
      "12180              2647            4330              7987                1201   \n",
      "12181              2383            4425              7887                1210   \n",
      "\n",
      "       livestock_quantity  fertilizer_quantity  animal_feed_quantity  \\\n",
      "0                    6339                57345               2068912   \n",
      "1                    6228                58146               2082012   \n",
      "2                    6547                59694               2007829   \n",
      "3                    6732                60006               2140272   \n",
      "4                    6946                61821               2171226   \n",
      "...                   ...                  ...                   ...   \n",
      "12177                5654                93807                975873   \n",
      "12178                5705               146857               1000004   \n",
      "12179                5601               160356               1113784   \n",
      "12180                5681               146379                940395   \n",
      "12181                5784               147631                957427   \n",
      "\n",
      "       cropland_quantity  pasture_quantity  irrigation_quantity  \n",
      "0                   7700             30000                 2380  \n",
      "1                   7760             30000                 2380  \n",
      "2                   7810             30000                 2380  \n",
      "3                   7873             30000                 2380  \n",
      "4                   7875             30000                 2380  \n",
      "...                  ...               ...                  ...  \n",
      "12177               2252             12100                  182  \n",
      "12178               2349             12100                  184  \n",
      "12179               2240             12100                  187  \n",
      "12180               2321             12100                  187  \n",
      "12181               2057             12100                  187  \n",
      "\n",
      "[12182 rows x 23 columns]\n"
     ]
    }
   ],
   "source": [
    "import sys\n",
    "sys.path.append('class/')\n",
    "\n",
    "from group_16 import Agros"
   ]
  },
  {
   "cell_type": "code",
   "execution_count": 3,
   "id": "94777852",
   "metadata": {},
   "outputs": [],
   "source": [
    "test_obj = Agros()\n",
    "test_obj.data_setup()\n",
    "test_obj\n"
   ]
  },
  {
   "cell_type": "code",
   "execution_count": null,
   "id": "9cf224a2",
   "metadata": {},
   "outputs": [],
   "source": []
  }
 ],
 "metadata": {
  "kernelspec": {
   "display_name": "Python 3 (ipykernel)",
   "language": "python",
   "name": "python3"
  },
  "language_info": {
   "codemirror_mode": {
    "name": "ipython",
    "version": 3
   },
   "file_extension": ".py",
   "mimetype": "text/x-python",
   "name": "python",
   "nbconvert_exporter": "python",
   "pygments_lexer": "ipython3",
   "version": "3.9.12"
  }
 },
 "nbformat": 4,
 "nbformat_minor": 5
}
